{
  "nbformat": 4,
  "nbformat_minor": 0,
  "metadata": {
    "colab": {
      "provenance": []
    },
    "kernelspec": {
      "name": "python3",
      "display_name": "Python 3"
    },
    "language_info": {
      "name": "python"
    }
  },
  "cells": [
    {
      "cell_type": "code",
      "source": [
        "import numpy as np"
      ],
      "metadata": {
        "id": "BS6YsMX7Komf"
      },
      "execution_count": null,
      "outputs": []
    },
    {
      "cell_type": "code",
      "execution_count": null,
      "metadata": {
        "id": "IuJZqIj8KIvI"
      },
      "outputs": [],
      "source": [
        "#First of all we are going to create Nodes\n",
        "class Node:\n",
        "    def __init__(self):\n",
        "        # We are going to assign an information vector (data) for each node\n",
        "        # 20 random values for data\n",
        "        # Data can represent anything\n",
        "        self.data = np.random.randn(20)\n",
        "        # 20 random values for key query and value\n",
        "        self.key_inf = np.random.randn(20)\n",
        "        self.query_inf = np.random.randn(20)\n",
        "        self.value_inf = np.random.randn(20)\n",
        "\n",
        "    def key(self):\n",
        "        #this method calculates the key value for the node\n",
        "        #the size of 20\n",
        "        #by using @ operator we get the key value\n",
        "        return self.key_inf @ self.data\n",
        "\n",
        "    def query(self):\n",
        "\n",
        "        return self.query_inf @ self.data\n",
        "\n",
        "    def value(self):\n",
        "        return self.value_inf @ self.data"
      ]
    },
    {
      "cell_type": "code",
      "source": [
        "#Initialize Nodes\n",
        "nodes = [Node() for _ in range(5)]  # Creating 5 nodes\n",
        "nodes"
      ],
      "metadata": {
        "colab": {
          "base_uri": "https://localhost:8080/"
        },
        "id": "Qgv0fM4CKovi",
        "outputId": "4b4d6923-4185-4c63-ebcd-6b6b4ec8dd59"
      },
      "execution_count": null,
      "outputs": [
        {
          "output_type": "execute_result",
          "data": {
            "text/plain": [
              "[<__main__.Node at 0x7b0c4eb3e010>,\n",
              " <__main__.Node at 0x7b0c4dec1e90>,\n",
              " <__main__.Node at 0x7b0c4df31250>,\n",
              " <__main__.Node at 0x7b0c4e58b1d0>,\n",
              " <__main__.Node at 0x7b0c4e58ae90>]"
            ]
          },
          "metadata": {},
          "execution_count": 21
        }
      ]
    },
    {
      "cell_type": "code",
      "source": [
        "#Compute Attention Scores using Node 0's query\n",
        "query_vector = nodes[0].query()\n",
        "#Collecting all key values\n",
        "key_vectors = np.array([node.key() for node in nodes])"
      ],
      "metadata": {
        "id": "G_G--eqfLGc4"
      },
      "execution_count": null,
      "outputs": []
    },
    {
      "cell_type": "code",
      "source": [
        "query_vector"
      ],
      "metadata": {
        "colab": {
          "base_uri": "https://localhost:8080/"
        },
        "id": "mPqTeg1nLZiW",
        "outputId": "eb4c4395-2f4b-4fe3-eb9d-363e956a57ee"
      },
      "execution_count": null,
      "outputs": [
        {
          "output_type": "execute_result",
          "data": {
            "text/plain": [
              "-0.3514844900432397"
            ]
          },
          "metadata": {},
          "execution_count": 23
        }
      ]
    },
    {
      "cell_type": "code",
      "source": [
        "key_vectors\n"
      ],
      "metadata": {
        "colab": {
          "base_uri": "https://localhost:8080/"
        },
        "id": "FYe78VTTLbRW",
        "outputId": "d7afe0bd-04b3-46ae-819f-3c2ff797c33f"
      },
      "execution_count": null,
      "outputs": [
        {
          "output_type": "execute_result",
          "data": {
            "text/plain": [
              "array([ 3.73644836, -5.02393132,  1.17852425, -1.876658  ,  0.63991954])"
            ]
          },
          "metadata": {},
          "execution_count": 24
        }
      ]
    },
    {
      "cell_type": "code",
      "source": [
        "#Compute dot product between query and keys\n",
        "attention_scores = np.dot(key_vectors, query_vector)\n",
        "print(\"Raw Attention Scores:\", attention_scores)"
      ],
      "metadata": {
        "colab": {
          "base_uri": "https://localhost:8080/"
        },
        "id": "WP7X8DH4LgCs",
        "outputId": "1035a3c1-b330-4261-ac76-ab6dcd1e4d88"
      },
      "execution_count": null,
      "outputs": [
        {
          "output_type": "stream",
          "name": "stdout",
          "text": [
            "Raw Attention Scores: [-1.31330365  1.76583394 -0.41423299  0.65961618 -0.22492179]\n"
          ]
        }
      ]
    },
    {
      "cell_type": "code",
      "source": [
        "#Apply Softmax\n",
        "def softmax(x):\n",
        "    return np.exp(x) / np.sum(np.exp(x))"
      ],
      "metadata": {
        "id": "l-IzO8xFLigm"
      },
      "execution_count": null,
      "outputs": []
    },
    {
      "cell_type": "code",
      "source": [
        "softmax_scores = softmax(attention_scores)\n",
        "print(\"Normalized Attention Scores (Softmax):\", softmax_scores)"
      ],
      "metadata": {
        "colab": {
          "base_uri": "https://localhost:8080/"
        },
        "id": "Jc3A3AtELkqq",
        "outputId": "a43319d9-743f-4461-8655-5fe60d652743"
      },
      "execution_count": null,
      "outputs": [
        {
          "output_type": "stream",
          "name": "stdout",
          "text": [
            "Normalized Attention Scores (Softmax): [0.02828208 0.61484248 0.06949808 0.20339469 0.08398266]\n"
          ]
        }
      ]
    },
    {
      "cell_type": "code",
      "source": [
        "#Compute Weighted Values\n",
        "\n",
        "#Collecting all values\n",
        "value_vectors = np.array([node.value() for node in nodes])\n",
        "#@ product to calculate the weighted sum\n",
        "weighted_values = softmax_scores @ value_vectors\n",
        "print(\"Final Attention Output:\", weighted_values)"
      ],
      "metadata": {
        "colab": {
          "base_uri": "https://localhost:8080/"
        },
        "id": "g_UOkGMALrWT",
        "outputId": "0d47f44d-ad68-4107-ae49-3428ad5db113"
      },
      "execution_count": null,
      "outputs": [
        {
          "output_type": "stream",
          "name": "stdout",
          "text": [
            "Final Attention Output: 4.9325472607050855\n"
          ]
        }
      ]
    },
    {
      "cell_type": "code",
      "source": [
        "#Importance of Softmax\n",
        "\n",
        "# Raw scores\n",
        "plt.subplot(1, 2, 1)\n",
        "plt.bar(range(len(attention_scores)), attention_scores, color='blue', alpha=0.6)\n",
        "plt.xlabel(\"Node Index\")\n",
        "plt.ylabel(\"Raw Attention Score\")\n",
        "plt.title(\"Raw Attention Scores (Without Softmax)\")\n",
        "\n",
        "# Softmax scores\n",
        "plt.subplot(1, 2, 2)\n",
        "plt.bar(range(len(softmax_scores)), softmax_scores, color='red', alpha=0.6)\n",
        "plt.xlabel(\"Node Index\")\n",
        "plt.ylabel(\"Softmax Attention Score\")\n",
        "plt.title(\"Normalized Attention Scores (With Softmax)\")\n",
        "\n",
        "plt.tight_layout()\n",
        "plt.show()"
      ],
      "metadata": {
        "colab": {
          "base_uri": "https://localhost:8080/",
          "height": 487
        },
        "id": "twzzqbPgNX4c",
        "outputId": "97665625-bda4-4e54-d700-21be4c38ca46"
      },
      "execution_count": null,
      "outputs": [
        {
          "output_type": "display_data",
          "data": {
            "text/plain": [
              "<Figure size 640x480 with 2 Axes>"
            ],
            "image/png": "[encoded data removed]"
          },
          "metadata": {}
        }
      ]
    }
  ]
}